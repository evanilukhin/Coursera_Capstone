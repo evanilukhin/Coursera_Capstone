{
 "cells": [
  {
   "cell_type": "markdown",
   "metadata": {},
   "source": [
    "# Introduction \n",
    "\n",
    "Global problem: Businesses steel need officess. Businesses are different.\n",
    "\n",
    "Problem: Where to place an new retail shop/restauran/clinic in Sydney if you are already have one?\n",
    "\n",
    "Possible method to solve this problem: Use the Data Science - Bitch.\n",
    "\n",
    "\n",
    "Many businesses very often face the next problem: when it begins to grow up, owners start to think about: where to open new outlets or found another place where you satisfy your customers' needs. This issue usually relates to offline companies like barbershops, veterinary clinics, retail stores, etc. There is a lot of parameters that impact on the decision: monthly rent, competitors, crime rates, a wealth of the people around and many others. This little research is focusing on the similarity of the boroughs or How to split all districts into groups. \n",
    "\n",
    "The idea is based on the underlying assumption that we should found spots in similar places.  \n",
    "\n",
    "For this research, I selected the Greater Sydney Area. It's one of the biggest agglomerations in the world,  consists of almost about 650 suburbs that sprawl about 70 km to the west, 40 km to the north, and 60 to the south and generates approximately 24.1% of Australia's GDP. "
   ]
  },
  {
   "cell_type": "markdown",
   "metadata": {},
   "source": [
    "# Data\n",
    "\n",
    "Monthly crime reports - https://www.bocsar.nsw.gov.au/Pages/bocsar_datasets/Datasets-.aspx\n",
    "Sydney suburbs - https://en.wikipedia.org/wiki/List_of_Sydney_suburbs\n",
    "List of the different venues - https://foursquare.com/\n"
   ]
  }
 ],
 "metadata": {
  "kernelspec": {
   "display_name": "Python 3",
   "language": "python",
   "name": "python3"
  },
  "language_info": {
   "codemirror_mode": {
    "name": "ipython",
    "version": 3
   },
   "file_extension": ".py",
   "mimetype": "text/x-python",
   "name": "python",
   "nbconvert_exporter": "python",
   "pygments_lexer": "ipython3",
   "version": "3.8.2"
  }
 },
 "nbformat": 4,
 "nbformat_minor": 4
}
