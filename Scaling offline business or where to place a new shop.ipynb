{
 "cells": [
  {
   "cell_type": "markdown",
   "metadata": {},
   "source": [
    "# Introduction \n",
    "\n",
    "Many businesses very often face the next problem: when it begins to grow up, owners start to think about: where to open new outlets or found another place where you satisfy your customers' needs. This issue usually relates to offline companies like barbershops, veterinary clinics, retail stores, etc. There is a lot of parameters that impact on the decision: monthly rent, competitors, crime rates, a wealth of the people around and many others. This little research is focusing on the similarity of the boroughs or How to split all districts into groups. \n",
    "\n",
    "The idea is based on the underlying assumption that we should found spots in similar places.  \n",
    "\n",
    "For this research, I selected the Greater Sydney Area. It's one of the biggest agglomerations in the world,  consists of almost about 650 suburbs that sprawl about 70 km to the west, 40 km to the north, and 60 to the south and generates approximately 24.1% of Australia's GDP. "
   ]
  },
  {
   "cell_type": "markdown",
   "metadata": {},
   "source": [
    "# Data\n",
    "\n",
    "For classifying suburbs, we should get features for each district. In this research, I will use the next:\n",
    "\n",
    "* latitude and longitude to show them on a map;\n",
    "* venue data, amount of each type of venues;\n",
    "* crime data, about of crimes grouped by type(murder, robbery, carjacking;\n",
    "* distance from the Sydney Central Business District (CBD).\n",
    "\n",
    "**Data sources:**\n",
    "\n",
    "* First we should get the list of suburbs by scrapping the wiki page -  https://en.wikipedia.org/wiki/List_of_Sydney_suburbs. \n",
    "* Then get the locations using OpenCage API - https://opencagedata.com/api\n",
    "* Monthly crime reports from the Bureau of Crime Statistics and Research. There are reporst for each suburb in New South Wales, so we should select only ones that we scrapped on the first step - https://www.bocsar.nsw.gov.au/Pages/bocsar_datasets/Datasets-.aspx\n",
    "* The list of venues using Foursquare API - https://foursquare.com/;\n",
    "* Crude distance from the central district will be calculated based on the centres of suburbs, got on the second step.\n",
    "\n"
   ]
  },
  {
   "cell_type": "code",
   "execution_count": null,
   "metadata": {},
   "outputs": [],
   "source": []
  }
 ],
 "metadata": {
  "kernelspec": {
   "display_name": "Python 3",
   "language": "python",
   "name": "python3"
  },
  "language_info": {
   "codemirror_mode": {
    "name": "ipython",
    "version": 3
   },
   "file_extension": ".py",
   "mimetype": "text/x-python",
   "name": "python",
   "nbconvert_exporter": "python",
   "pygments_lexer": "ipython3",
   "version": "3.8.2"
  }
 },
 "nbformat": 4,
 "nbformat_minor": 4
}
